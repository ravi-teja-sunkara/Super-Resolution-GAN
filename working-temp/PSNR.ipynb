{
 "cells": [
  {
   "cell_type": "code",
   "execution_count": 22,
   "metadata": {},
   "outputs": [
    {
     "name": "stdout",
     "output_type": "stream",
     "text": [
      "100\n",
      "---------average PSNR--------\n",
      "34.32159247553721\n"
     ]
    }
   ],
   "source": [
    "# calculating the average PSNR\n",
    "import numpy \n",
    "import math\n",
    "import cv2\n",
    "import os\n",
    "import numpy as np\n",
    "\n",
    "filePathImage_valid_original = \"Desktop/spring2019/Aml/proj3/results/pixel_12000/valid/gene/gene/\"\n",
    "filePathImage_valid_gene = \"Desktop/spring2019/Aml/proj3/results/pixel_12000/valid/original/original/\"\n",
    "\n",
    "\n",
    "valid_HR = [f for f in os.listdir(filePathImage_valid_gene)]\n",
    "\n",
    "\n",
    "def psnr(img1, img2):\n",
    "    mse = numpy.mean( (img1 - img2) ** 2 )\n",
    "    if mse == 0:\n",
    "        return 100\n",
    "    PIXEL_MAX = 255.0\n",
    "    return 20 * math.log10(PIXEL_MAX / math.sqrt(mse))\n",
    "\n",
    "avgPSNR = 0\n",
    "print(len(valid_HR))\n",
    "for file in valid_HR:\n",
    "    #print(filePathImage_valid_original+file)\n",
    "    original = cv2.imread(filePathImage_valid_original+file)\n",
    "    #print(original)\n",
    "    contrast = cv2.imread(filePathImage_valid_gene+file)\n",
    "    avgPSNR += psnr(original,contrast)\n",
    "\n",
    "print(\"---------average PSNR--------\")    \n",
    "print(avgPSNR/len(valid_HR))"
   ]
  },
  {
   "cell_type": "code",
   "execution_count": 24,
   "metadata": {},
   "outputs": [
    {
     "name": "stdout",
     "output_type": "stream",
     "text": [
      "100\n",
      "---------average PSNR--------\n",
      "34.32159247553721\n"
     ]
    }
   ],
   "source": [
    "# def psnr(y_true, y_pred):\n",
    "#     assert y_true.shape == y_pred.shape, \"Cannot calculate PSNR. Input shapes not same.\" \\\n",
    "#                                          \" y_true shape = %s, y_pred shape = %s\" % (str(y_true.shape),\n",
    "#                                                                                    str(y_pred.shape))\n",
    "\n",
    "#     x = -10. * np.log10(np.mean(np.square(y_pred - y_true)))\n",
    "#     PIXEL_MAX = 255.0\n",
    "#     return 20 * math.log10(PIXEL_MAX)  +x\n",
    "\n",
    "\n",
    "# avgPSNR = 0\n",
    "# print(len(valid_HR))\n",
    "# for file in valid_HR:\n",
    "#     #print(filePathImage_valid_original+file)\n",
    "#     original = cv2.imread(filePathImage_valid_original+file)\n",
    "#     #print(original)\n",
    "#     contrast = cv2.imread(filePathImage_valid_gene+file)\n",
    "#     avgPSNR += psnr(original,contrast)\n",
    "\n",
    "# print(\"---------average PSNR--------\")    \n",
    "# print(avgPSNR/len(valid_HR))"
   ]
  },
  {
   "cell_type": "code",
   "execution_count": null,
   "metadata": {},
   "outputs": [],
   "source": []
  }
 ],
 "metadata": {
  "kernelspec": {
   "display_name": "Python 3",
   "language": "python",
   "name": "python3"
  },
  "language_info": {
   "codemirror_mode": {
    "name": "ipython",
    "version": 3
   },
   "file_extension": ".py",
   "mimetype": "text/x-python",
   "name": "python",
   "nbconvert_exporter": "python",
   "pygments_lexer": "ipython3",
   "version": "3.6.5"
  }
 },
 "nbformat": 4,
 "nbformat_minor": 2
}
